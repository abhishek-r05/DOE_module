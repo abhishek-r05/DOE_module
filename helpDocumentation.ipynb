{
 "cells": [
  {
   "cell_type": "markdown",
   "metadata": {},
   "source": [
    "<h1> doeMain </h1> "
   ]
  },
  {
   "cell_type": "markdown",
   "metadata": {},
   "source": [
    "<p> doeMain is the package which helps in creating the design space for the experiments. This package consists of four classes. These are listed below:<p>\n",
    "<p>\n",
    "* doeMaster (Parent)\n",
    "* pyDOEMaster (Child)\n",
    "* diversipyMaster (Child)\n",
    "\n",
    "<p> The usage of these classes as well as the sample outputs are mentioned in this notebook. <p> \n",
    "<p> There are three packages available in doeMain: <p>\n",
    "* pyDOE \n",
    "* diversipy\n",
    "\n",
    "<p> The contents of the classes are as mentioned below: <p>\n",
    "\n",
    "<p>1. doeMaster\n",
    "<ol>\n",
    "    <li> Packages available </li>\n",
    "    <li> LHS Correlation Score </li>\n",
    "    <li> LHS Distance Score </li>\n",
    "    <li> Input Distribution Types and functions </li>\n",
    "    <li> Applying Distributions </li>\n",
    "    <li> Slicing down the matrix </li>\n",
    "    <li> Plotting the matrix </li>\n",
    "    <li> Adding new samples to the existing matrix </li>\n",
    "</ol>    \n",
    "<p>2. pyDOEMaster\n",
    "<ol>\n",
    "    <li> Creating LHS </li>\n",
    "</ol>    \n",
    "<p>3. diversipyMaster\n",
    "<ol>\n",
    "    <li> Converting Co-ordinates to Unit Hypercube </li>\n",
    "    <li> Creating LHD Matrix </li>\n",
    "    <li> Improving the existing LHD Matrix </li>\n",
    "    <li> Sliced LHS Matrix </li>\n",
    "</ol>    \n"
   ]
  },
  {
   "cell_type": "markdown",
   "metadata": {},
   "source": [
    "<p> For importing any package, a path must set to access the directories. This can be done as shown below. <p> \n",
    "* os.chdir() is used to set the location where these packages are existing. \n",
    "* os.getcwd() helps in getting the current working directory location where the path has been assigned to."
   ]
  },
  {
   "cell_type": "code",
   "execution_count": 1,
   "metadata": {
    "collapsed": false
   },
   "outputs": [
    {
     "name": "stdout",
     "output_type": "stream",
     "text": [
      "C:\\Users\\ra2\\Documents\\Python_Scripts\\ExcelADE\\FinalModule\n"
     ]
    }
   ],
   "source": [
    "# Importing supporting modules for Notebook.\n",
    "\n",
    "import os\n",
    "import numpy as np\n",
    "\n",
    "print(os.getcwd())\n",
    "\n"
   ]
  },
  {
   "cell_type": "code",
   "execution_count": null,
   "metadata": {
    "collapsed": true
   },
   "outputs": [],
   "source": []
  },
  {
   "cell_type": "markdown",
   "metadata": {},
   "source": [
    "<p> Any information about the package or module can be accessed using help function as shown below. It invokes the built-in help system. If no argument is given, the interactive help system starts on the interpreter console.  <p>"
   ]
  },
  {
   "cell_type": "code",
   "execution_count": 2,
   "metadata": {
    "collapsed": false
   },
   "outputs": [
    {
     "name": "stdout",
     "output_type": "stream",
     "text": [
      "Help on module doeMain:\n",
      "\n",
      "NAME\n",
      "    doeMain\n",
      "\n",
      "FILE\n",
      "    c:\\users\\ra2\\documents\\python_scripts\\excelade\\finalmodule\\doemain.py\n",
      "\n",
      "CLASSES\n",
      "    __builtin__.object\n",
      "        doeMaster\n",
      "            diversipyMaster\n",
      "            pyDOEMaster\n",
      "    \n",
      "    class diversipyMaster(doeMaster)\n",
      "     |  Child Class of doeMaster, for python Package diversipy\n",
      "     |  \n",
      "     |  Method resolution order:\n",
      "     |      diversipyMaster\n",
      "     |      doeMaster\n",
      "     |      __builtin__.object\n",
      "     |  \n",
      "     |  Methods defined here:\n",
      "     |  \n",
      "     |  __init__(self)\n",
      "     |      Initilize diversipyMaster Class\n",
      "     |  \n",
      "     |  convertCoordinateToUnitHypercube(self, inMatrix, method='center')\n",
      "     |          diversipyMaster libraries always return the LHS as coordinate based values.\n",
      "     |          We need to convert then to actual values from 0-1.\n",
      "     |      :param inMatrix:\n",
      "     |          inMatrix is lhs matrix with coordinates corresponding to the bins\n",
      "     |      :param method:\n",
      "     |          For each bin how should the point be selected. You have 3 options:\n",
      "     |          1. 'center' : select the mid point of each bin\n",
      "     |          2. 'random' : select random point inside each bin\n",
      "     |          3. 'max_distance' : select the point such that all bins are far apart.\n",
      "     |      :return:\n",
      "     |          matrix with updated values.\n",
      "     |  \n",
      "     |  improved_lhd_matrix(self, nInputs=None, nSamples=None, inputDistribution=None, selectPointMethod='center', num_candidates=100, target_value=None)\n",
      "     |          calls the improved_lhs_matrix function from the diversipy library\n",
      "     |      :param nInputs:\n",
      "     |          No of inputs/Parameters for creating the LHS\n",
      "     |      :param nSamples:\n",
      "     |          No of sample points for creating the LHS\n",
      "     |      :param inputDistribution:\n",
      "     |          Default 'None' : all input are create in range of 0-1 [unit Hypercube]\n",
      "     |          You can also choose different input distributions example [['uniform',0,10]] ranging from 0-10 with equal probability.\n",
      "     |          Check function getInputDistributionTypes() to find all options\n",
      "     |      :param selectPointMethod:\n",
      "     |          For each bin how should the point be selected. You have 3 options:\n",
      "     |          1. 'center' : select the mid point of each bin\n",
      "     |          2. 'random' : select random point inside each bin\n",
      "     |          3. 'max_distance' : select the point such that all bins are far apart.\n",
      "     |      :param num_candidates:\n",
      "     |          default is 100.\n",
      "     |          The number of random candidates considered for every point to be added to the LHD\n",
      "     |      :param target_value:\n",
      "     |          default is None\n",
      "     |          The distance a candidate should ideally have to the already chosen points of the LHD.\n",
      "     |      :return:\n",
      "     |          lhs Matrix\n",
      "     |  \n",
      "     |  lhd_matrix(self, nInputs=None, nSamples=None, inputDistribution=None, selectPointMethod='center')\n",
      "     |          Calls the lhs_matrix function from diversipy package to create the LHS\n",
      "     |          :param nInputs:\n",
      "     |          No of inputs/Parameters for creating the LHS\n",
      "     |      :param nSamples:\n",
      "     |          No of sample points for creating the LHS\n",
      "     |      :param inputDistribution:\n",
      "     |          Default 'None' : all input are create in range of 0-1 [unit Hypercube]\n",
      "     |          You can also choose different input distributions example [['uniform',0,10]] ranging from 0-10 with equal probability.\n",
      "     |          Check function getInputDistributionTypes() to find all options\n",
      "     |      :param selectPointMethod:\n",
      "     |          For each bin how should the point be selected. You have 3 options:\n",
      "     |          1. 'center' : select the mid point of each bin\n",
      "     |          2. 'random' : select random point inside each bin\n",
      "     |          3. 'max_distance' : select the point such that all bins are far apart.\n",
      "     |      \n",
      "     |      :return:\n",
      "     |          return the matrix of LHS create by the method.\n",
      "     |  \n",
      "     |  slicedLHS(self, nInputs=None, nSamples=None, nSlice=2, inputDistribution=None, selectPointMethod='center', num_candidates=100, target_value=None)\n",
      "     |          This Method creates sliced LHS using diversipy liraries\n",
      "     |      \n",
      "     |      :param nInputs:\n",
      "     |          No of inputs/Parameters for continuous type to be created\n",
      "     |      :param nSamples:\n",
      "     |          No of sample points per sliced LHS\n",
      "     |      :param nSlice:\n",
      "     |          No of Slices you want to create.\n",
      "     |      :param inputDistribution:\n",
      "     |          Default 'None' : all input are create in range of 0-1 [unit Hypercube]\n",
      "     |          You can also choose different input distributions example [['uniform',0,10]] ranging from 0-10 with equal probability.\n",
      "     |          Check function getInputDistributionTypes() to find all options\n",
      "     |      :param selectPointMethod:\n",
      "     |          For each bin how should the point be selected. You have 3 options:\n",
      "     |          1. 'center' : select the mid point of each bin\n",
      "     |          2. 'random' : select random point inside each bin\n",
      "     |          3. 'max_distance' : select the point such that all bins are far apart.\n",
      "     |      :param num_candidates:\n",
      "     |          default is 100.\n",
      "     |          The number of random candidates considered for every point to be added to the LHD\n",
      "     |      :param target_value:\n",
      "     |          default is None\n",
      "     |          The distance a candidate should ideally have to the already chosen points of the LHD.\n",
      "     |      :return:\n",
      "     |          A dictionary with sliced LHS matrix\n",
      "     |          examples {'Slice_1': matrix,'Slice_2': matrix ...}\n",
      "     |  \n",
      "     |  ----------------------------------------------------------------------\n",
      "     |  Methods inherited from doeMaster:\n",
      "     |  \n",
      "     |  addNpointsLHS(self, inMatrix, m=1, method='random')\n",
      "     |      Add 'n' new points to the existing LHS matrix.\n",
      "     |      NOTE:\n",
      "     |          Assumes inMatrix to be a unit Hypercube i.e. all parameters are from 0-1\n",
      "     |      :param m:\n",
      "     |          How many new points do you want.\n",
      "     |      :param method:\n",
      "     |          'random' : choose a random value inside the bin\n",
      "     |          'center' : choose the mid point of the bin\n",
      "     |      :return:\n",
      "     |  \n",
      "     |  applyDistributionToMatrix(self, inMatrix, inDistribution)\n",
      "     |      Takes in the input unitMatrix and multiple with the respective distribution given by inDistribution.\n",
      "     |      :param inMatrix:\n",
      "     |      input unit hypercube matrix\n",
      "     |      :param inDistribution:\n",
      "     |          list of list each sublist if cooresponding the the ith input and contains the necessary information\n",
      "     |          about the input\n",
      "     |      :return:\n",
      "     |          return the updated matrix wrt input distribution provided.\n",
      "     |  \n",
      "     |  getInputDistributionFunction(self, params)\n",
      "     |      This create a ppf function for the specified distribution and return it, this can then be multiplied with\n",
      "     |      the matrix column to convert it.\n",
      "     |      :param params:\n",
      "     |          each param should be of format ['type',p1,p2..] p1,p2 corresponds to the input of 'type' of distribution\n",
      "     |          you select.\n",
      "     |      :return:\n",
      "     |          ppf function.\n",
      "     |  \n",
      "     |  getInputDistributionTypes(self)\n",
      "     |      :return:\n",
      "     |          List of all supported distribution\n",
      "     |  \n",
      "     |  lhsCorrScore(self, inputMatrix)\n",
      "     |      This Function Calculate the correlation between each columns of the input matrix.\n",
      "     |      Calculates RHO as a score of correlation\n",
      "     |      \n",
      "     |      :param input_matrix:\n",
      "     |          Input Matrix for which the score has to be calculated.\n",
      "     |      :return:\n",
      "     |          rho,maxPairwiseCorr,corrMatrix\n",
      "     |  \n",
      "     |  lhsDistScore(self, inputMatrix)\n",
      "     |      This Function Calculate the L1 and L2 distrance between each row of the input matrix.\n",
      "     |      :param inputMatrix:\n",
      "     |          Input Matrix for which the score has to be calculated.\n",
      "     |      :return:\n",
      "     |          mean L1 distance,mean L2 distance\n",
      "     |  \n",
      "     |  listPackages(self)\n",
      "     |      Can be used to view all the eligible packages.\n",
      "     |      :return: List of Available Packages\n",
      "     |  \n",
      "     |  plotMatrix(self, inputMatrix, addGrid=False, nNewPoints=None, figsize=(20, 20))\n",
      "     |          Function to be used to view the DOE distribution in 2D plane (wrt each column pairs)\n",
      "     |      :param inputMatrix: Input Matrix which needs to be plotted. In case of sliced DOE it should be dictionary\n",
      "     |          containing matrix for each slice.\n",
      "     |      :param addGrid: Add grid only works for unit hypercube. Set true to add it\n",
      "     |      :param nNewPoints: Setting this to numeric value will color the n points from the end of the array to red color\n",
      "     |      :param figsize: provide a tuple for plot size.\n",
      "     |      :return: None\n",
      "     |  \n",
      "     |  setPackage(self, packageName)\n",
      "     |      Select the wrapper class corresponding to the package name.\n",
      "     |      :param packageName:\n",
      "     |          Provide package name, use listPackages() to get the list of available packages\n",
      "     |      :return:\n",
      "     |          object of the Wrapper Class corresponding to the input package name, error string incase of invalid package\n",
      "     |  \n",
      "     |  sliceDOE(self, inMatrix)\n",
      "     |          This function takes the inMatrix seperates continuous variables and discrete variables.\n",
      "     |          For each unique value of discrete columns stores the subset matrix of continuous variables in a dictionary\n",
      "     |          and returns it.\n",
      "     |          NOTE: Discrete columns is identified if they have string value.\n",
      "     |          Columns with numeric value 1,2,3 will not be treated ad discrete. It has to be '1','2','3'\n",
      "     |      \n",
      "     |      :param inMatrix:\n",
      "     |          Input matrix containing discrete variables which needs to be sliced.\n",
      "     |      \n",
      "     |      :return:\n",
      "     |          dictionary containing slices wrt each discrete value\n",
      "     |  \n",
      "     |  ----------------------------------------------------------------------\n",
      "     |  Data descriptors inherited from doeMaster:\n",
      "     |  \n",
      "     |  __dict__\n",
      "     |      dictionary for instance variables (if defined)\n",
      "     |  \n",
      "     |  __weakref__\n",
      "     |      list of weak references to the object (if defined)\n",
      "    \n",
      "    class doeMaster(__builtin__.object)\n",
      "     |  Main Class For all DOEs.\n",
      "     |  \n",
      "     |  Methods defined here:\n",
      "     |  \n",
      "     |  __init__(self)\n",
      "     |      Intialize the method available to doeMaster class.\n",
      "     |  \n",
      "     |  addNpointsLHS(self, inMatrix, m=1, method='random')\n",
      "     |      Add 'n' new points to the existing LHS matrix.\n",
      "     |      NOTE:\n",
      "     |          Assumes inMatrix to be a unit Hypercube i.e. all parameters are from 0-1\n",
      "     |      :param m:\n",
      "     |          How many new points do you want.\n",
      "     |      :param method:\n",
      "     |          'random' : choose a random value inside the bin\n",
      "     |          'center' : choose the mid point of the bin\n",
      "     |      :return:\n",
      "     |  \n",
      "     |  applyDistributionToMatrix(self, inMatrix, inDistribution)\n",
      "     |      Takes in the input unitMatrix and multiple with the respective distribution given by inDistribution.\n",
      "     |      :param inMatrix:\n",
      "     |      input unit hypercube matrix\n",
      "     |      :param inDistribution:\n",
      "     |          list of list each sublist if cooresponding the the ith input and contains the necessary information\n",
      "     |          about the input\n",
      "     |      :return:\n",
      "     |          return the updated matrix wrt input distribution provided.\n",
      "     |  \n",
      "     |  getInputDistributionFunction(self, params)\n",
      "     |      This create a ppf function for the specified distribution and return it, this can then be multiplied with\n",
      "     |      the matrix column to convert it.\n",
      "     |      :param params:\n",
      "     |          each param should be of format ['type',p1,p2..] p1,p2 corresponds to the input of 'type' of distribution\n",
      "     |          you select.\n",
      "     |      :return:\n",
      "     |          ppf function.\n",
      "     |  \n",
      "     |  getInputDistributionTypes(self)\n",
      "     |      :return:\n",
      "     |          List of all supported distribution\n",
      "     |  \n",
      "     |  lhsCorrScore(self, inputMatrix)\n",
      "     |      This Function Calculate the correlation between each columns of the input matrix.\n",
      "     |      Calculates RHO as a score of correlation\n",
      "     |      \n",
      "     |      :param input_matrix:\n",
      "     |          Input Matrix for which the score has to be calculated.\n",
      "     |      :return:\n",
      "     |          rho,maxPairwiseCorr,corrMatrix\n",
      "     |  \n",
      "     |  lhsDistScore(self, inputMatrix)\n",
      "     |      This Function Calculate the L1 and L2 distrance between each row of the input matrix.\n",
      "     |      :param inputMatrix:\n",
      "     |          Input Matrix for which the score has to be calculated.\n",
      "     |      :return:\n",
      "     |          mean L1 distance,mean L2 distance\n",
      "     |  \n",
      "     |  listPackages(self)\n",
      "     |      Can be used to view all the eligible packages.\n",
      "     |      :return: List of Available Packages\n",
      "     |  \n",
      "     |  plotMatrix(self, inputMatrix, addGrid=False, nNewPoints=None, figsize=(20, 20))\n",
      "     |          Function to be used to view the DOE distribution in 2D plane (wrt each column pairs)\n",
      "     |      :param inputMatrix: Input Matrix which needs to be plotted. In case of sliced DOE it should be dictionary\n",
      "     |          containing matrix for each slice.\n",
      "     |      :param addGrid: Add grid only works for unit hypercube. Set true to add it\n",
      "     |      :param nNewPoints: Setting this to numeric value will color the n points from the end of the array to red color\n",
      "     |      :param figsize: provide a tuple for plot size.\n",
      "     |      :return: None\n",
      "     |  \n",
      "     |  setPackage(self, packageName)\n",
      "     |      Select the wrapper class corresponding to the package name.\n",
      "     |      :param packageName:\n",
      "     |          Provide package name, use listPackages() to get the list of available packages\n",
      "     |      :return:\n",
      "     |          object of the Wrapper Class corresponding to the input package name, error string incase of invalid package\n",
      "     |  \n",
      "     |  sliceDOE(self, inMatrix)\n",
      "     |          This function takes the inMatrix seperates continuous variables and discrete variables.\n",
      "     |          For each unique value of discrete columns stores the subset matrix of continuous variables in a dictionary\n",
      "     |          and returns it.\n",
      "     |          NOTE: Discrete columns is identified if they have string value.\n",
      "     |          Columns with numeric value 1,2,3 will not be treated ad discrete. It has to be '1','2','3'\n",
      "     |      \n",
      "     |      :param inMatrix:\n",
      "     |          Input matrix containing discrete variables which needs to be sliced.\n",
      "     |      \n",
      "     |      :return:\n",
      "     |          dictionary containing slices wrt each discrete value\n",
      "     |  \n",
      "     |  ----------------------------------------------------------------------\n",
      "     |  Data descriptors defined here:\n",
      "     |  \n",
      "     |  __dict__\n",
      "     |      dictionary for instance variables (if defined)\n",
      "     |  \n",
      "     |  __weakref__\n",
      "     |      list of weak references to the object (if defined)\n",
      "    \n",
      "    class pyDOEMaster(doeMaster)\n",
      "     |  Child Class of doeMaster, for python Package pyDOE\n",
      "     |  \n",
      "     |  Method resolution order:\n",
      "     |      pyDOEMaster\n",
      "     |      doeMaster\n",
      "     |      __builtin__.object\n",
      "     |  \n",
      "     |  Methods defined here:\n",
      "     |  \n",
      "     |  __init__(self)\n",
      "     |      Initialize the pyDOEMaster Class\n",
      "     |  \n",
      "     |  lhs(self, nInputs=None, nSamples=None, inputDistribution=None, criterion='corr')\n",
      "     |      :param nInputs:\n",
      "     |          No of inputs/Parameters for creating the LHS\n",
      "     |      :param nSamples:\n",
      "     |          No of sample points for creating the LHS\n",
      "     |      :param inputDistribution:\n",
      "     |          Default 'None' : all input are create in range of 0-1 [unit Hypercube]\n",
      "     |          You can also choose different input distributions example [['uniform',0,10]] ranging from 0-10 with equal probability.\n",
      "     |          Check function getInputDistributionTypes() to find all options\n",
      "     |      :param criterion:\n",
      "     |          default : 'corr'\n",
      "     |          'c': center the points within the sampling intervals\n",
      "     |          'm': maximize the minimum distance between points, but place the point in a randomized location within its interval\n",
      "     |          'cm': same as 'm' but centered within the intervals\n",
      "     |          'corr': minimize the maximum correlation coefficient\n",
      "     |      :return:\n",
      "     |          return the lhs matrix\n",
      "     |  \n",
      "     |  ----------------------------------------------------------------------\n",
      "     |  Methods inherited from doeMaster:\n",
      "     |  \n",
      "     |  addNpointsLHS(self, inMatrix, m=1, method='random')\n",
      "     |      Add 'n' new points to the existing LHS matrix.\n",
      "     |      NOTE:\n",
      "     |          Assumes inMatrix to be a unit Hypercube i.e. all parameters are from 0-1\n",
      "     |      :param m:\n",
      "     |          How many new points do you want.\n",
      "     |      :param method:\n",
      "     |          'random' : choose a random value inside the bin\n",
      "     |          'center' : choose the mid point of the bin\n",
      "     |      :return:\n",
      "     |  \n",
      "     |  applyDistributionToMatrix(self, inMatrix, inDistribution)\n",
      "     |      Takes in the input unitMatrix and multiple with the respective distribution given by inDistribution.\n",
      "     |      :param inMatrix:\n",
      "     |      input unit hypercube matrix\n",
      "     |      :param inDistribution:\n",
      "     |          list of list each sublist if cooresponding the the ith input and contains the necessary information\n",
      "     |          about the input\n",
      "     |      :return:\n",
      "     |          return the updated matrix wrt input distribution provided.\n",
      "     |  \n",
      "     |  getInputDistributionFunction(self, params)\n",
      "     |      This create a ppf function for the specified distribution and return it, this can then be multiplied with\n",
      "     |      the matrix column to convert it.\n",
      "     |      :param params:\n",
      "     |          each param should be of format ['type',p1,p2..] p1,p2 corresponds to the input of 'type' of distribution\n",
      "     |          you select.\n",
      "     |      :return:\n",
      "     |          ppf function.\n",
      "     |  \n",
      "     |  getInputDistributionTypes(self)\n",
      "     |      :return:\n",
      "     |          List of all supported distribution\n",
      "     |  \n",
      "     |  lhsCorrScore(self, inputMatrix)\n",
      "     |      This Function Calculate the correlation between each columns of the input matrix.\n",
      "     |      Calculates RHO as a score of correlation\n",
      "     |      \n",
      "     |      :param input_matrix:\n",
      "     |          Input Matrix for which the score has to be calculated.\n",
      "     |      :return:\n",
      "     |          rho,maxPairwiseCorr,corrMatrix\n",
      "     |  \n",
      "     |  lhsDistScore(self, inputMatrix)\n",
      "     |      This Function Calculate the L1 and L2 distrance between each row of the input matrix.\n",
      "     |      :param inputMatrix:\n",
      "     |          Input Matrix for which the score has to be calculated.\n",
      "     |      :return:\n",
      "     |          mean L1 distance,mean L2 distance\n",
      "     |  \n",
      "     |  listPackages(self)\n",
      "     |      Can be used to view all the eligible packages.\n",
      "     |      :return: List of Available Packages\n",
      "     |  \n",
      "     |  plotMatrix(self, inputMatrix, addGrid=False, nNewPoints=None, figsize=(20, 20))\n",
      "     |          Function to be used to view the DOE distribution in 2D plane (wrt each column pairs)\n",
      "     |      :param inputMatrix: Input Matrix which needs to be plotted. In case of sliced DOE it should be dictionary\n",
      "     |          containing matrix for each slice.\n",
      "     |      :param addGrid: Add grid only works for unit hypercube. Set true to add it\n",
      "     |      :param nNewPoints: Setting this to numeric value will color the n points from the end of the array to red color\n",
      "     |      :param figsize: provide a tuple for plot size.\n",
      "     |      :return: None\n",
      "     |  \n",
      "     |  setPackage(self, packageName)\n",
      "     |      Select the wrapper class corresponding to the package name.\n",
      "     |      :param packageName:\n",
      "     |          Provide package name, use listPackages() to get the list of available packages\n",
      "     |      :return:\n",
      "     |          object of the Wrapper Class corresponding to the input package name, error string incase of invalid package\n",
      "     |  \n",
      "     |  sliceDOE(self, inMatrix)\n",
      "     |          This function takes the inMatrix seperates continuous variables and discrete variables.\n",
      "     |          For each unique value of discrete columns stores the subset matrix of continuous variables in a dictionary\n",
      "     |          and returns it.\n",
      "     |          NOTE: Discrete columns is identified if they have string value.\n",
      "     |          Columns with numeric value 1,2,3 will not be treated ad discrete. It has to be '1','2','3'\n",
      "     |      \n",
      "     |      :param inMatrix:\n",
      "     |          Input matrix containing discrete variables which needs to be sliced.\n",
      "     |      \n",
      "     |      :return:\n",
      "     |          dictionary containing slices wrt each discrete value\n",
      "     |  \n",
      "     |  ----------------------------------------------------------------------\n",
      "     |  Data descriptors inherited from doeMaster:\n",
      "     |  \n",
      "     |  __dict__\n",
      "     |      dictionary for instance variables (if defined)\n",
      "     |  \n",
      "     |  __weakref__\n",
      "     |      list of weak references to the object (if defined)\n",
      "\n",
      "\n"
     ]
    }
   ],
   "source": [
    "import doeMain\n",
    "help(doeMain)"
   ]
  },
  {
   "cell_type": "markdown",
   "metadata": {},
   "source": [
    "<h3> 1. doeMaster <h3> "
   ]
  },
  {
   "cell_type": "markdown",
   "metadata": {},
   "source": [
    "<h4> Calling the Module <h4>"
   ]
  },
  {
   "cell_type": "markdown",
   "metadata": {},
   "source": [
    "<p> doeMaster is the parent classes  having child class (pyDOEMaster,dakotaMaster,diversipyMaster) The following functions are supported in the doeMaster class, these methods can also be accessed from the child class <p>"
   ]
  },
  {
   "cell_type": "code",
   "execution_count": 3,
   "metadata": {
    "collapsed": false
   },
   "outputs": [],
   "source": [
    "# doeMaster \n",
    "doeMasterObj = doeMain.doeMaster()"
   ]
  },
  {
   "cell_type": "markdown",
   "metadata": {},
   "source": [
    "<h4> 1.1 Packages available <h4>"
   ]
  },
  {
   "cell_type": "markdown",
   "metadata": {},
   "source": [
    "<h4> Listing down the available packages </h4>"
   ]
  },
  {
   "cell_type": "markdown",
   "metadata": {},
   "source": [
    "<p> doeMaster contains 3 packages. The list of all the packages available can be listed down by using the below code. The three packages which are available as of now are 'dakota', 'pyDOE' and 'diversipy' <p>"
   ]
  },
  {
   "cell_type": "code",
   "execution_count": 4,
   "metadata": {
    "collapsed": false
   },
   "outputs": [
    {
     "data": {
      "text/plain": [
       "['pyDOE', 'diversipy']"
      ]
     },
     "execution_count": 4,
     "metadata": {},
     "output_type": "execute_result"
    }
   ],
   "source": [
    "available_packages = doeMasterObj.listPackages()\n",
    "available_packages"
   ]
  },
  {
   "cell_type": "markdown",
   "metadata": {},
   "source": [
    "<h4> Selecting the desired package<h4>"
   ]
  },
  {
   "cell_type": "markdown",
   "metadata": {},
   "source": [
    "<p> The desired package, which are mentioned in the package list can be set for the further validation process. It can be set as doeMaster.setPackage('Package'). The available packages are 'dakota', 'pyDOE' and 'diversipy' <p>"
   ]
  },
  {
   "cell_type": "code",
   "execution_count": 5,
   "metadata": {
    "collapsed": false
   },
   "outputs": [],
   "source": [
    "pyDOEMasterObj = doeMasterObj.setPackage('pyDOE')\n",
    "\n",
    "# ALTERNATIVELY you can also create the object directly.\n",
    "# From subfolder doeModule get import class pyDOEMaster from doeMain.py\n",
    "from doeModule.doeMain import pyDOEMaster\n",
    "\n",
    "# Create a object, to Use the function of the Class.\n",
    "pyDOEMasterObj = pyDOEMaster()"
   ]
  },
  {
   "cell_type": "code",
   "execution_count": 6,
   "metadata": {
    "collapsed": false,
    "scrolled": true
   },
   "outputs": [
    {
     "name": "stdout",
     "output_type": "stream",
     "text": [
      "new candidate solution found with max,abs corrcoef = 0.998287933286\n",
      "new candidate solution found with max,abs corrcoef = 0.959194847978\n",
      "new candidate solution found with max,abs corrcoef = 0.798251148106\n"
     ]
    },
    {
     "data": {
      "text/plain": [
       "array([[ 0.53201422,  0.2579153 ,  0.97517905],\n",
       "       [ 0.91315033,  0.35884323,  0.56742209],\n",
       "       [ 0.03634984,  0.9875566 ,  0.05708005]])"
      ]
     },
     "execution_count": 6,
     "metadata": {},
     "output_type": "execute_result"
    }
   ],
   "source": [
    "# Creating a simple LHS\n",
    "matrix_created  = pyDOEMasterObj.lhs(nInputs = 3, nSamples = 3)\n",
    "matrix_created"
   ]
  },
  {
   "cell_type": "markdown",
   "metadata": {},
   "source": [
    "<h4>Supporing Function For created Matrix</h4>\n",
    "<p>We will be using the above created matrix to show example of supporting functions.\n",
    "Later we will see, multiple ways of creating LHS matrix using various packages we have</p>"
   ]
  },
  {
   "cell_type": "markdown",
   "metadata": {},
   "source": [
    "<h4>1.2 LHS Correlation Score <h4>"
   ]
  },
  {
   "cell_type": "markdown",
   "metadata": {},
   "source": [
    "**_doeMaster.lhsCorrScore(inputMatrix)_** \n",
    "<p> This function calculates the correlation across the columns of a given matrix. Correlation represents the linear association between two vectors. The given function takes the input as a matrix and returns the correlation score across the columns as a Correlation Table. It also prints the \"Rho\" and the maximum pairwise correlation value of a given matrix <p>\n",
    "<p> The input parameters for obtaining these correlation values should be in the form of a matrix. The below snippet shows how to obtain the correlation values out of a given input matrix <p> \n",
    "<p> The Correlation Table is the table containing Pearson product moment correlation co-efficients. The correlation table is obtained as <p>"
   ]
  },
  {
   "cell_type": "markdown",
   "metadata": {},
   "source": [
    "\\begin{equation*}\n",
    "\\ R_(i,j) = \\frac {C_(i,j)} {\\sqrt{C_(i,i)} \\times \\sqrt{C_(j,j)}}\n",
    "\\end{equation*}\n",
    "<p>R : Correlation Co-efficient matrix<p> \n",
    "<p>C : Covariance Matrix<p>\n",
    "<p> The Parameters that need to be given as input to this function are:\n",
    "* inputMatrix : The matrix for which the Correlation scores need to calculated."
   ]
  },
  {
   "cell_type": "code",
   "execution_count": 7,
   "metadata": {
    "collapsed": false
   },
   "outputs": [
    {
     "name": "stdout",
     "output_type": "stream",
     "text": [
      "*** RHO ***\n",
      "0.811667324007\n",
      "*** Max Pairwise Correlation ***\n",
      "0.615714154174\n",
      "*** Correlation Table ***\n",
      "[[        nan -0.8384748   0.61571415]\n",
      " [-0.8384748          nan -0.94565725]\n",
      " [ 0.61571415 -0.94565725         nan]]\n"
     ]
    }
   ],
   "source": [
    "corr_score = doeMasterObj.lhsCorrScore(matrix_created)"
   ]
  },
  {
   "cell_type": "markdown",
   "metadata": {},
   "source": [
    "<h4>1.3 LHS Distance Score <h4>"
   ]
  },
  {
   "cell_type": "markdown",
   "metadata": {},
   "source": [
    "**_doeMaster.lhsDistScore(inputMatrix)_**\n",
    "<p> This function calculates the distance across the rows. This calculation is done in two norms, L1 - norm and L2 - norm. <p>\n",
    "<p> *  L1 norm - It gives the absolute distance<p>\n",
    "<p> *  L2 norm - It gives the least squares distance <p>\n",
    "<p> The input parameters for this function are: <p>\n",
    "* inputMatrix : The for which the score has to be calculated."
   ]
  },
  {
   "cell_type": "code",
   "execution_count": 8,
   "metadata": {
    "collapsed": false
   },
   "outputs": [
    {
     "name": "stdout",
     "output_type": "stream",
     "text": [
      "*** L1 Distance ***\n",
      "Mean =  1.68302719502\n",
      "Max =  2.14340468661\n",
      "Min =  0.889820984149\n",
      "*** L2 Distance ***\n",
      "Mean =  1.01130004458\n",
      "Max =  1.27317138826\n",
      "Min =  0.567200942441\n"
     ]
    }
   ],
   "source": [
    "dist_score = doeMasterObj.lhsDistScore(matrix_created)"
   ]
  },
  {
   "cell_type": "markdown",
   "metadata": {},
   "source": [
    "<p> “Print” command returns only the mean distance values of L1 and L2 norms <p> "
   ]
  },
  {
   "cell_type": "code",
   "execution_count": 9,
   "metadata": {
    "collapsed": false
   },
   "outputs": [
    {
     "name": "stdout",
     "output_type": "stream",
     "text": [
      "(1.6830271950241251, 1.0113000445766207)\n"
     ]
    }
   ],
   "source": [
    "print dist_score"
   ]
  },
  {
   "cell_type": "markdown",
   "metadata": {},
   "source": [
    "<h4>1.4 Input Distribution Types and functions <h4> "
   ]
  },
  {
   "cell_type": "markdown",
   "metadata": {},
   "source": [
    "<h4> Available Distributions <h4> "
   ]
  },
  {
   "cell_type": "markdown",
   "metadata": {},
   "source": [
    "**_doeMaster.getInputDistributionTypes( )_**\n",
    "<p> There are two distributions available in this package. The distributions available and the way the parameters should be considered can be displayed by using the below function 'getInputDistributionTypes' <p>\n",
    "<p> If nothing is mentioned about the values associated with a given distribution, the function assumes the default values. <p>"
   ]
  },
  {
   "cell_type": "code",
   "execution_count": 10,
   "metadata": {
    "collapsed": false
   },
   "outputs": [
    {
     "data": {
      "text/html": [
       "<div>\n",
       "<style scoped>\n",
       "    .dataframe tbody tr th:only-of-type {\n",
       "        vertical-align: middle;\n",
       "    }\n",
       "\n",
       "    .dataframe tbody tr th {\n",
       "        vertical-align: top;\n",
       "    }\n",
       "\n",
       "    .dataframe thead th {\n",
       "        text-align: right;\n",
       "    }\n",
       "</style>\n",
       "<table border=\"1\" class=\"dataframe\">\n",
       "  <thead>\n",
       "    <tr style=\"text-align: right;\">\n",
       "      <th></th>\n",
       "      <th>Name</th>\n",
       "      <th>Type</th>\n",
       "      <th>Keyword</th>\n",
       "      <th>Parameters</th>\n",
       "      <th>Default</th>\n",
       "      <th>Defaults</th>\n",
       "    </tr>\n",
       "  </thead>\n",
       "  <tbody>\n",
       "    <tr>\n",
       "      <th>0</th>\n",
       "      <td>Uniform</td>\n",
       "      <td>Continuous</td>\n",
       "      <td>uniform</td>\n",
       "      <td>['uniform',minValue,maxValue]</td>\n",
       "      <td>NaN</td>\n",
       "      <td>['uniform',0,1]</td>\n",
       "    </tr>\n",
       "    <tr>\n",
       "      <th>1</th>\n",
       "      <td>Normal</td>\n",
       "      <td>Continuous</td>\n",
       "      <td>norm</td>\n",
       "      <td>['norm',loc,scale]</td>\n",
       "      <td>NaN</td>\n",
       "      <td>['norm',0,1]</td>\n",
       "    </tr>\n",
       "  </tbody>\n",
       "</table>\n",
       "</div>"
      ],
      "text/plain": [
       "      Name        Type  Keyword                     Parameters Default  \\\n",
       "0  Uniform  Continuous  uniform  ['uniform',minValue,maxValue]     NaN   \n",
       "1   Normal  Continuous     norm             ['norm',loc,scale]     NaN   \n",
       "\n",
       "          Defaults  \n",
       "0  ['uniform',0,1]  \n",
       "1     ['norm',0,1]  "
      ]
     },
     "execution_count": 10,
     "metadata": {},
     "output_type": "execute_result"
    }
   ],
   "source": [
    "doeMasterObj.getInputDistributionTypes()"
   ]
  },
  {
   "cell_type": "markdown",
   "metadata": {},
   "source": [
    "<h4>1.5 Applying Distribution to Matrix <h4> "
   ]
  },
  {
   "cell_type": "markdown",
   "metadata": {},
   "source": [
    "**_doeMaster.applyDistributionToMatrix(inMatrix,inDistribution)_**\n",
    "<p> This particular function takes the input matrix and multiply the columns of the matrix to the respective distribution given in the inDistribution <p>\n",
    "<p> The input parameters for this function are:<p>\n",
    "* inMatrix : The input matrix should be a unit hypercube, i.e., Input Matrix should be a unit matrix (with values between 0-1) to apply the distributions to the matrix. \n",
    "* inDistribution : The list of distributions that needs to be applied in such a way that ith distribution is applied to the ith input (i.e. ith column)"
   ]
  },
  {
   "cell_type": "code",
   "execution_count": 11,
   "metadata": {
    "collapsed": false,
    "scrolled": true
   },
   "outputs": [
    {
     "name": "stdout",
     "output_type": "stream",
     "text": [
      "Uniform Distribution Applied with mean:0 and std :1\n",
      "Uniform Distribution Applied with min:3 and max :4\n",
      "Uniform Distribution Applied with min:0 and max :20\n"
     ]
    }
   ],
   "source": [
    "matrix_created_modified = doeMasterObj.applyDistributionToMatrix(matrix_created, inDistribution=[[\"norm\", 0,1],[\"uniform\",3,4],[\"uniform\",0,20]])"
   ]
  },
  {
   "cell_type": "code",
   "execution_count": 12,
   "metadata": {
    "collapsed": false
   },
   "outputs": [
    {
     "data": {
      "text/plain": [
       "array([[  0.08033408,   3.2579153 ,  19.5035809 ],\n",
       "       [  1.36041277,   3.35884323,  11.34844187],\n",
       "       [ -1.79471153,   3.9875566 ,   1.14160091]])"
      ]
     },
     "execution_count": 12,
     "metadata": {},
     "output_type": "execute_result"
    }
   ],
   "source": [
    "matrix_created_modified # The input matrix will be updated based on the distributions mentioned in the previous step"
   ]
  },
  {
   "cell_type": "markdown",
   "metadata": {},
   "source": [
    "<h4>1.7 Plot Matrix <h4>"
   ]
  },
  {
   "cell_type": "markdown",
   "metadata": {},
   "source": [
    "**_doeMaster.plotMatrix(inputMatrix,addGrid=False,nNewPoints = None)_**\n",
    "<p> This function helps in visualising the matrix in a two-dimensional space. Plot Matrix helps in visualising the points of a Matrix, by plotting them One on One with taking each column as a vector and the values associated with that vector as the values on an axis. It plots a one on one matrix.  <p>\n",
    "The input parameters to be given are:\n",
    "* inputMatrix : The matrix to be plotted\n",
    "* figsize : By default, the plot matrix considers the figure size to be (5,5). This can be adjusted based on the requirements.\n"
   ]
  },
  {
   "cell_type": "code",
   "execution_count": 13,
   "metadata": {
    "collapsed": false
   },
   "outputs": [
    {
     "data": {
      "image/png": "[encoded data removed]",
      "text/plain": [
       "<matplotlib.figure.Figure at 0xb8c8f60>"
      ]
     },
     "metadata": {},
     "output_type": "display_data"
    }
   ],
   "source": [
    "doeMasterObj.plotMatrix(matrix_created, figsize = (7,7))"
   ]
  },
  {
   "cell_type": "markdown",
   "metadata": {},
   "source": [
    "<h4>1.8 Adding new rows (points) <h4> "
   ]
  },
  {
   "cell_type": "markdown",
   "metadata": {},
   "source": [
    "**_doeMaster.addNpointsLHS(inMatrix, m=none, method=none)_**\n",
    "<p> The existing matrix can be modified by adding the new rows to the matrix. There are two methods by which the new rows (points) can be added. One method is 'random' and other is 'center'. Either of these two can be considered while modifying the matrix. The number of roes that are to be added can be specified by using 'm' <p> \n",
    "<p> The input parameters for this function are given below:<p>\n",
    "* inMatrix : The existing matrix which is needed to be modified <p>\n",
    "* m        : The number of rows that needs to added to the existing matrix. By Default, it considers m = 1. <p>\n",
    "* method   : The methods to be used for generating the numbers. Two methods are available, 'random' and 'center', are available in the package<p>\n"
   ]
  },
  {
   "cell_type": "code",
   "execution_count": 14,
   "metadata": {
    "collapsed": false
   },
   "outputs": [
    {
     "name": "stdout",
     "output_type": "stream",
     "text": [
      "[[ 0.25        0.58333333  0.25      ]\n",
      " [ 0.41666667  0.75        0.41666667]\n",
      " [ 0.75        0.08333333  0.75      ]]\n",
      "[[ 0.25        0.58333333  0.25      ]\n",
      " [ 0.41666667  0.08333333  0.75      ]\n",
      " [ 0.75        0.75        0.41666667]]\n",
      "3\n"
     ]
    }
   ],
   "source": [
    "addNpoints_center = doeMasterObj.addNpointsLHS(matrix_created, m =3, method = 'center')"
   ]
  },
  {
   "cell_type": "code",
   "execution_count": 15,
   "metadata": {
    "collapsed": false
   },
   "outputs": [
    {
     "name": "stdout",
     "output_type": "stream",
     "text": [
      "[[ 0.53201422  0.2579153   0.97517905]\n",
      " [ 0.91315033  0.35884323  0.56742209]\n",
      " [ 0.03634984  0.9875566   0.05708005]\n",
      " [ 0.25        0.58333333  0.25      ]\n",
      " [ 0.41666667  0.08333333  0.75      ]\n",
      " [ 0.75        0.75        0.41666667]]\n"
     ]
    }
   ],
   "source": [
    "print addNpoints_center"
   ]
  },
  {
   "cell_type": "markdown",
   "metadata": {},
   "source": [
    "<h3>2. pyDOEMaster <h3>"
   ]
  },
  {
   "cell_type": "markdown",
   "metadata": {},
   "source": [
    "<p> doeMain contains class pyDOEMaster. An object has to be created first before calling the functions. Here, an object named \"pyDOEMasterObj\", we will use this object to access the functionality of the class.<p>"
   ]
  },
  {
   "cell_type": "code",
   "execution_count": 16,
   "metadata": {
    "collapsed": false
   },
   "outputs": [],
   "source": [
    "from doeModule.doeMain import pyDOEMaster\n",
    "pyDOEMasterObj = pyDOEMaster()"
   ]
  },
  {
   "cell_type": "markdown",
   "metadata": {},
   "source": [
    "<h4>2.1 Creating LHS <h4> "
   ]
  },
  {
   "cell_type": "markdown",
   "metadata": {},
   "source": [
    "**_pyDOEMaster.lhs(nInputs=None,nSamples=None, inputDistribution = None,criterion = 'corr')_**\n",
    "<p> LHS is a method of generating the random samples of parameter values, from multi-dimensional distribution. It is pre-dominantly used in Monte Carlo Simulation. It reduces the number of runs required to achieve a reasonably accurate results. LHS is based on a Latin Square Design, in which there exists only a single sample in each row and column.<p> \n",
    "<p> The input parameters associated with this function are as listed below: <p>\n",
    "<p>* nInputs : The number of inputs required for LHS. It can be found across the columns of a given row.\n",
    "<p>* nSamples : The number of different samples required for LHS. It can be found across the rows of a given column. \n",
    "    * Inputs are displayed as the columns and the samples are displayed as the rows.\n",
    "<p>* inputDistribution : The distribution that needs to be applied across the samples. User needs to specify the type of the distribution, i.e. 'uniform' or 'norm', and the specifications associated with them. \n",
    "    * For Uniform, it is minimum value and the maximum value.\n",
    "    * For Normal, it is Location parameter, i.e. mean and the scale parameter, i.e. Deviation from the mean. \n",
    "<p>* criterion : There are 4 criteria that are available for this parameter.\n",
    "    * c : Center the points within the sampling intervals\n",
    "    * m : It maximizes the minimum distance between points, but places the point in a randomized location within its interval\n",
    "    * cm : Same as 'm' but centred within the intervals\n",
    "    * corr : It minimizes the maximum correlation co-efficient. By default, corr is applied to the function.\n",
    "<p>\n"
   ]
  },
  {
   "cell_type": "markdown",
   "metadata": {},
   "source": [
    "<p> Let's start by creating a simple LHS without any distributions mentioned. By default, the function considers the distribution to be 'uniform' with 0 and 1 as min and max values respectively. <h2> "
   ]
  },
  {
   "cell_type": "code",
   "execution_count": 17,
   "metadata": {
    "collapsed": false
   },
   "outputs": [
    {
     "name": "stdout",
     "output_type": "stream",
     "text": [
      "new candidate solution found with max,abs corrcoef = 0.965594258369\n",
      "new candidate solution found with max,abs corrcoef = 0.944115586031\n"
     ]
    }
   ],
   "source": [
    "LHS_simple = pyDOEMasterObj.lhs(nInputs = 3, nSamples =3)"
   ]
  },
  {
   "cell_type": "code",
   "execution_count": 18,
   "metadata": {
    "collapsed": false
   },
   "outputs": [
    {
     "data": {
      "text/plain": [
       "array([[ 0.97990757,  0.78079585,  0.65135539],\n",
       "       [ 0.53348479,  0.6620102 ,  0.27358369],\n",
       "       [ 0.28564677,  0.2886439 ,  0.79170437]])"
      ]
     },
     "execution_count": 18,
     "metadata": {},
     "output_type": "execute_result"
    }
   ],
   "source": [
    "LHS_simple"
   ]
  },
  {
   "cell_type": "markdown",
   "metadata": {},
   "source": [
    "<p> We can create the LHS, by mentioning the type of the distribution, that an Input should possess across its sample. There are two distributions associated with LHS, normal and uniform, as mentioned above <p> "
   ]
  },
  {
   "cell_type": "code",
   "execution_count": 19,
   "metadata": {
    "collapsed": false
   },
   "outputs": [
    {
     "name": "stdout",
     "output_type": "stream",
     "text": [
      "new candidate solution found with max,abs corrcoef = 0.967962164503\n",
      "Uniform Distribution Applied with min:5 and max :7\n",
      "Uniform Distribution Applied with mean:2 and std :3\n",
      "Uniform Distribution Applied with min:6 and max :19\n",
      "Uniform Distribution Applied with min:1 and max :4\n"
     ]
    }
   ],
   "source": [
    "LHS = pyDOEMasterObj.lhs(nInputs = 4, nSamples = 3, inputDistribution = [['uniform', 5,7],['norm', 2,3],['uniform', 6,19],['uniform', 1,4]])"
   ]
  },
  {
   "cell_type": "code",
   "execution_count": 20,
   "metadata": {
    "collapsed": false
   },
   "outputs": [
    {
     "name": "stdout",
     "output_type": "stream",
     "text": [
      "[[  5.73474516  -1.737677    10.34057961   2.52952032]\n",
      " [  6.84041399   3.47610468   8.96109987   1.92873673]\n",
      " [  5.02049298   2.27883066  18.14919341   3.46909521]]\n"
     ]
    }
   ],
   "source": [
    "print LHS"
   ]
  },
  {
   "cell_type": "code",
   "execution_count": 21,
   "metadata": {
    "collapsed": false
   },
   "outputs": [
    {
     "name": "stdout",
     "output_type": "stream",
     "text": [
      "Uniform Distribution Applied with min:5 and max :7\n",
      "Uniform Distribution Applied with mean:2 and std :3\n",
      "Uniform Distribution Applied with min:6 and max :19\n",
      "Uniform Distribution Applied with min:1 and max :4\n"
     ]
    }
   ],
   "source": [
    "LHS_criteria = pyDOEMasterObj.lhs(nInputs = 4, nSamples = 3, inputDistribution = \n",
    "                               [['uniform', 5,7],['norm', 2,3],['uniform', 6,19],['uniform', 1,4]], criterion = 'cm')"
   ]
  },
  {
   "cell_type": "code",
   "execution_count": 22,
   "metadata": {
    "collapsed": false
   },
   "outputs": [
    {
     "data": {
      "text/plain": [
       "array([[  6.        ,   2.        ,  16.83333333,   3.5       ],\n",
       "       [  6.66666667,  -0.9022647 ,   8.16666667,   2.5       ],\n",
       "       [  5.33333333,   4.9022647 ,  12.5       ,   1.5       ]])"
      ]
     },
     "execution_count": 22,
     "metadata": {},
     "output_type": "execute_result"
    }
   ],
   "source": [
    "LHS_criteria"
   ]
  },
  {
   "cell_type": "markdown",
   "metadata": {},
   "source": [
    "<h3>3. Diversipy Master <h3>"
   ]
  },
  {
   "cell_type": "markdown",
   "metadata": {},
   "source": [
    "<p> doeMain contains class diversipyMaster. \"diversipyMasterObj\" has been created to use the class functions <p> "
   ]
  },
  {
   "cell_type": "code",
   "execution_count": 23,
   "metadata": {
    "collapsed": true
   },
   "outputs": [],
   "source": [
    "from doeModule.doeMain import diversipyMaster\n",
    "diversipyMasterObj = diversipyMaster()"
   ]
  },
  {
   "cell_type": "markdown",
   "metadata": {},
   "source": [
    "<h4>3.1 Converting Co-ordinates To Unit Hypercube <h4> "
   ]
  },
  {
   "cell_type": "markdown",
   "metadata": {},
   "source": [
    "**_diversipyMaster.convertCoordinateToUnitHypercube(inMatrix,method='center')_**\n",
    "<p> This function helps in transforming the design space into Unit Hyper cube. <p> \n",
    "The input parameters are:<p>\n",
    "* inputMatrix: The matrix which needs to be converted\n",
    "* method: There are 3 methods associated with this \n",
    "    * center: Each point is placed at the centroid of a sub cell in the assumed grid over the cube. By Default, 'center' would be considered. \n",
    "    * random: Applies random perturbations so that each point is distributed randomly uniform in its grid cell. This is the variant proposed by McKay 1979.\n",
    "    * max_distance: The transformation is so that each face of the hypercube is sampled by at least one point (exactly one point in the case of LHDs). Use this transformation if you want to maximize the minimal distance between points in the design.\n"
   ]
  },
  {
   "cell_type": "code",
   "execution_count": 24,
   "metadata": {
    "collapsed": true
   },
   "outputs": [],
   "source": [
    "Convert_to_UH_center = diversipyMasterObj.convertCoordinateToUnitHypercube(matrix_created, method = 'center')"
   ]
  },
  {
   "cell_type": "code",
   "execution_count": 25,
   "metadata": {
    "collapsed": false
   },
   "outputs": [
    {
     "data": {
      "text/plain": [
       "array([[ 0.34400474,  0.25263843,  0.49172635],\n",
       "       [ 0.47105011,  0.28628108,  0.35580736],\n",
       "       [ 0.17878328,  0.4958522 ,  0.18569335]])"
      ]
     },
     "execution_count": 25,
     "metadata": {},
     "output_type": "execute_result"
    }
   ],
   "source": [
    "Convert_to_UH_center"
   ]
  },
  {
   "cell_type": "markdown",
   "metadata": {},
   "source": [
    "<h4>3.2 Creating LHD Matrix <h4> "
   ]
  },
  {
   "cell_type": "markdown",
   "metadata": {},
   "source": [
    "**diversipyMaster.lhd_matrix(nInputs=None,nSamples=None, inputDistribution = None,selectPointMethod = 'center')**\n",
    "<p> It generates a random Latin hypercube design matrix. <p>\n",
    "<p> Latin hypercube designs sometimes give an advantage over random uniform samples due to their perfect uniformity of one-dimensional projections. <p> \n",
    "<p> The input parameters are given as mentioned below<p>\n",
    "* nInputs : The number of inputs required for LHS. It can be found across the columns of a given row.\n",
    "* nSamples : The number of samples of the given input required for LHS. It can be found across the rows of a given row.\n",
    "* inputDistribution: What type of the distribution to be applied on the input. The distribution is multiplied across the rows for a given column.\n",
    "* selectPointMethod : 3 methods are available. They are 'center', 'random' and 'max_distance'"
   ]
  },
  {
   "cell_type": "markdown",
   "metadata": {},
   "source": [
    "<p> Let's start with creating a simple Latin Hypercube Design Matrix as given below. If no distribution is mentioned, by default it considers a \"uniform\" distribution with 0 and 1 as minimum and maximum values <p> "
   ]
  },
  {
   "cell_type": "code",
   "execution_count": 26,
   "metadata": {
    "collapsed": true
   },
   "outputs": [],
   "source": [
    "lhd_simple = diversipyMasterObj.lhd_matrix(nInputs =3, nSamples =3)"
   ]
  },
  {
   "cell_type": "code",
   "execution_count": 27,
   "metadata": {
    "collapsed": false
   },
   "outputs": [
    {
     "data": {
      "text/plain": [
       "array([[ 0.5       ,  0.16666667,  0.16666667],\n",
       "       [ 0.16666667,  0.83333333,  0.5       ],\n",
       "       [ 0.83333333,  0.5       ,  0.83333333]])"
      ]
     },
     "execution_count": 27,
     "metadata": {},
     "output_type": "execute_result"
    }
   ],
   "source": [
    "lhd_simple"
   ]
  },
  {
   "cell_type": "markdown",
   "metadata": {},
   "source": [
    "<p> The distributions can be applied while creating LHD as given below. <p> "
   ]
  },
  {
   "cell_type": "code",
   "execution_count": 28,
   "metadata": {
    "collapsed": false
   },
   "outputs": [
    {
     "name": "stdout",
     "output_type": "stream",
     "text": [
      "Uniform Distribution Applied with mean:0 and std :1\n",
      "Uniform Distribution Applied with mean:5 and std :1\n",
      "Uniform Distribution Applied with min:4 and max :6\n"
     ]
    }
   ],
   "source": [
    "lhd_distribution = diversipyMasterObj.lhd_matrix(nInputs = 3, nSamples = 3, inputDistribution =[['norm',0,1],['norm',5,1],['uniform',4,6]])"
   ]
  },
  {
   "cell_type": "code",
   "execution_count": 29,
   "metadata": {
    "collapsed": false
   },
   "outputs": [
    {
     "data": {
      "text/plain": [
       "array([[ 0.96742157,  4.03257843,  5.        ],\n",
       "       [-0.96742157,  5.96742157,  4.33333333],\n",
       "       [ 0.        ,  5.        ,  5.66666667]])"
      ]
     },
     "execution_count": 29,
     "metadata": {},
     "output_type": "execute_result"
    }
   ],
   "source": [
    "lhd_distribution"
   ]
  },
  {
   "cell_type": "markdown",
   "metadata": {},
   "source": [
    "<p> LHDs creation by specifying select point method: <p> "
   ]
  },
  {
   "cell_type": "code",
   "execution_count": 30,
   "metadata": {
    "collapsed": false
   },
   "outputs": [
    {
     "name": "stdout",
     "output_type": "stream",
     "text": [
      "Uniform Distribution Applied with mean:0 and std :1\n",
      "Uniform Distribution Applied with mean:5 and std :1\n",
      "Uniform Distribution Applied with min:4 and max :6\n"
     ]
    }
   ],
   "source": [
    "lhdMatrix_center = diversipyMasterObj.lhd_matrix(nInputs = 3, nSamples = 3, inputDistribution =[['norm',0,1],['norm',5,1],['uniform',4,6]],selectPointMethod = 'center')"
   ]
  },
  {
   "cell_type": "code",
   "execution_count": 31,
   "metadata": {
    "collapsed": false
   },
   "outputs": [
    {
     "data": {
      "text/plain": [
       "array([[ 0.        ,  5.96742157,  4.33333333],\n",
       "       [-0.96742157,  4.03257843,  5.        ],\n",
       "       [ 0.96742157,  5.        ,  5.66666667]])"
      ]
     },
     "execution_count": 31,
     "metadata": {},
     "output_type": "execute_result"
    }
   ],
   "source": [
    "lhdMatrix_center"
   ]
  },
  {
   "cell_type": "markdown",
   "metadata": {},
   "source": [
    "<h4>3.3 Improving the LHD Matrix <h4> "
   ]
  },
  {
   "cell_type": "markdown",
   "metadata": {},
   "source": [
    "**diversipyMaster.improved_lhd_matrix(nInputs=None, nSamples=None, inputDistribution=None,selectPointMethod = 'center', num_candidates=100, target_value=None)**\n",
    "<p>It generates an ‘improved’ Latin hypercube design matrix. <p>\n",
    "This implementation uses an aldiversipyMaster.improved_lhd_matrixgorithm with quadratic run time. It is a greedy construction heuristic starting with a randomly chosen point. In each iteration, many random candidates is evaluated by a criterion that considers a candidate’s distance to the previously chosen points. The best point according to this criterion is included in the LHD.\n",
    "<p> More information about this algorithm cab found at \"Wessing2015\" <p>\n",
    "Input Parameters associated with this function are:\n",
    "* nInputs : The number of inputs required for LHS. It can be found across the columns of a given row.\n",
    "* nSamples : The number of samples of the given input required for LHS. It can be found across the rows of a given row.\n",
    "* inputDistribution : What type of the distribution to be applied on the input. The distribution is multiplied across the rows for a given column. If no distribution is mentioned, a unit hypercube will be created with the samples derived out of a Uniform distribution.\n",
    "* selectPointMethod : 3 methods are available. They are 'center', 'random' and 'max_distance. By default, the function takes 'center' as the input parameter. \n",
    "* num_candidates : The number of random candidates considered for every point to be added to the LHD. The default value is 100. \n",
    "* target_value : The distance a candidate should ideally have to the already chosen points of the LHD. \n",
    "\n",
    "<p> Let's start by applying this function in a very simple case, i.e., only with the number of inputs and samples. <p>  \n"
   ]
  },
  {
   "cell_type": "code",
   "execution_count": 32,
   "metadata": {
    "collapsed": false
   },
   "outputs": [
    {
     "data": {
      "text/plain": [
       "array([[ 0.83333333,  0.5       ,  0.83333333],\n",
       "       [ 0.5       ,  0.83333333,  0.5       ],\n",
       "       [ 0.16666667,  0.16666667,  0.16666667]])"
      ]
     },
     "execution_count": 32,
     "metadata": {},
     "output_type": "execute_result"
    }
   ],
   "source": [
    "diversipyMasterObj.improved_lhd_matrix(nInputs = 3, nSamples = 3)"
   ]
  },
  {
   "cell_type": "markdown",
   "metadata": {},
   "source": [
    "<p> Applying the distributions when creating the matrix:"
   ]
  },
  {
   "cell_type": "code",
   "execution_count": 33,
   "metadata": {
    "collapsed": false
   },
   "outputs": [
    {
     "name": "stdout",
     "output_type": "stream",
     "text": [
      "Uniform Distribution Applied with mean:0 and std :1\n",
      "Uniform Distribution Applied with min:0 and max :4\n",
      "Uniform Distribution Applied with mean:12 and std :16\n"
     ]
    },
    {
     "data": {
      "text/plain": [
       "array([[  0.        ,   3.33333333,  12.        ],\n",
       "       [  0.96742157,   2.        ,  27.47874506],\n",
       "       [ -0.96742157,   0.66666667,  -3.47874506]])"
      ]
     },
     "execution_count": 33,
     "metadata": {},
     "output_type": "execute_result"
    }
   ],
   "source": [
    "diversipyMasterObj.improved_lhd_matrix(nInputs = 3, nSamples = 3,inputDistribution = [['norm',0,1],['uniform',0,4],['norm',12,16]])"
   ]
  },
  {
   "cell_type": "markdown",
   "metadata": {},
   "source": [
    "<p> LHDs creation by specifying select point method: "
   ]
  },
  {
   "cell_type": "code",
   "execution_count": 34,
   "metadata": {
    "collapsed": false
   },
   "outputs": [
    {
     "name": "stdout",
     "output_type": "stream",
     "text": [
      "Uniform Distribution Applied with mean:0 and std :1\n",
      "Uniform Distribution Applied with min:0 and max :4\n",
      "Uniform Distribution Applied with mean:12 and std :16\n"
     ]
    },
    {
     "data": {
      "text/plain": [
       "array([[ -1.24439065,   3.64501521,  14.65833925],\n",
       "       [ -0.41601045,   2.00488307,  35.44405357],\n",
       "       [  0.6476075 ,   0.11197802, -21.8389651 ]])"
      ]
     },
     "execution_count": 34,
     "metadata": {},
     "output_type": "execute_result"
    }
   ],
   "source": [
    "diversipyMasterObj.improved_lhd_matrix(nInputs = 3, nSamples = 3, inputDistribution = [['norm',0,1],['uniform',0,4],['norm',12,16]],selectPointMethod = 'random') "
   ]
  },
  {
   "cell_type": "markdown",
   "metadata": {},
   "source": [
    "<p> Adding the additional input parameter which considers the number of random candidates considered:"
   ]
  },
  {
   "cell_type": "code",
   "execution_count": 35,
   "metadata": {
    "collapsed": false
   },
   "outputs": [
    {
     "name": "stdout",
     "output_type": "stream",
     "text": [
      "Uniform Distribution Applied with mean:0 and std :1\n",
      "Uniform Distribution Applied with min:0 and max :4\n",
      "Uniform Distribution Applied with mean:12 and std :16\n"
     ]
    },
    {
     "data": {
      "text/plain": [
       "array([[ -0.68112404,   3.33930118, -17.17173053],\n",
       "       [ -0.25781613,   1.35489658,  13.51809628],\n",
       "       [  0.80369521,   0.54372678,  29.46240279]])"
      ]
     },
     "execution_count": 35,
     "metadata": {},
     "output_type": "execute_result"
    }
   ],
   "source": [
    "diversipyMasterObj.improved_lhd_matrix(nInputs = 3, nSamples = 3, inputDistribution = [['norm',0,1],['uniform',0,4],['norm',12,16]],selectPointMethod = 'random', num_candidates = 25) "
   ]
  },
  {
   "cell_type": "markdown",
   "metadata": {},
   "source": [
    "<p> Adding the one more input parameter which considers the target value:"
   ]
  },
  {
   "cell_type": "code",
   "execution_count": 36,
   "metadata": {
    "collapsed": false
   },
   "outputs": [
    {
     "name": "stdout",
     "output_type": "stream",
     "text": [
      "Uniform Distribution Applied with mean:0 and std :1\n",
      "Uniform Distribution Applied with min:0 and max :4\n",
      "Uniform Distribution Applied with mean:12 and std :16\n"
     ]
    }
   ],
   "source": [
    "Improved_LHD = diversipyMasterObj.improved_lhd_matrix(nInputs = 3, nSamples = 3, inputDistribution = [['norm',0,1],['uniform',0,4],['norm',12,16]],selectPointMethod = 'random', num_candidates = 25, target_value = 43.24) "
   ]
  },
  {
   "cell_type": "code",
   "execution_count": null,
   "metadata": {
    "collapsed": false
   },
   "outputs": [
    {
     "data": {
      "text/plain": [
       "array([[  1.27651868,   3.69074883,   1.9961637 ],\n",
       "       [ -0.33638353,   1.39391947,  10.85221159],\n",
       "       [ -0.90431587,   0.75312087,  44.89810003]])"
      ]
     },
     "execution_count": 37,
     "metadata": {},
     "output_type": "execute_result"
    }
   ],
   "source": [
    "Improved_LHD"
   ]
  },
  {
   "cell_type": "markdown",
   "metadata": {},
   "source": [
    "<h4>3.4 Sliced LHS Matrix <h4> "
   ]
  },
  {
   "cell_type": "markdown",
   "metadata": {},
   "source": [
    "**diversipyMaster.slicedLHS(nInputs=None, nSamples=None, nSlice=2, inputDistribution=None,selectPointMethod = 'center', num_candidates=100, target_value=None)**\n",
    "<p> This function creates a sliced LHS using diversipy Libraries. <p>\n",
    "The input parameters to be given are:\n",
    "* nInputs : The number of inputs required for LHS. It can be found across the columns of a given row.\n",
    "* nSamples : The number of different samples required for LHS. It can be found across the rows of a given column. \n",
    "    * Inputs are displayed as the columns and the samples are displayed as the rows.\n",
    "* nSlice : Number of slices user wants to create. By default, it will be two. \n",
    "* inputDistribution : The distribution that needs to be applied across the samples. User needs to specify the type of the distribution, i.e. 'uniform' or 'norm', and the specifications associated with them. \n",
    "    * For Uniform, it is minimum value and the maximum value.\n",
    "    * For Normal, it is Location parameter, i.e. mean and the scale parameter, i.e. Deviation from the mean. \n",
    "* selectPointMethod : 3 methods are available. They are 'center', 'random' and 'max_distance. By default, the function takes 'center' as the input parameter. \n",
    "* num_candidates : The number of random candidates considered for every point to be added to the LHD. The default value is 100. \n",
    "* target_value : The distance a candidate should ideally have to the already chosen points of the LHD.\n"
   ]
  },
  {
   "cell_type": "code",
   "execution_count": null,
   "metadata": {
    "collapsed": false
   },
   "outputs": [
    {
     "name": "stdout",
     "output_type": "stream",
     "text": [
      "Uniform Distribution Applied with mean:0 and std :1\n",
      "Uniform Distribution Applied with min:0 and max :4\n",
      "Uniform Distribution Applied with mean:12 and std :16\n",
      "Uniform Distribution Applied with min:0 and max :10\n",
      "Uniform Distribution Applied with mean:0 and std :1\n",
      "Uniform Distribution Applied with min:0 and max :4\n",
      "Uniform Distribution Applied with mean:12 and std :16\n",
      "Uniform Distribution Applied with min:0 and max :10\n",
      "Uniform Distribution Applied with mean:0 and std :1\n",
      "Uniform Distribution Applied with min:0 and max :4\n",
      "Uniform Distribution Applied with mean:12 and std :16\n",
      "Uniform Distribution Applied with min:0 and max :10\n"
     ]
    }
   ],
   "source": [
    "Sliced_LHS = diversipyMasterObj.slicedLHS(nInputs = 4, nSamples = 3, nSlice = 3,inputDistribution = [['norm',0,1],['uniform',0,4],['norm',12,16], ['uniform',0,10]],selectPointMethod = 'center', num_candidates = 25, target_value = 43.24)"
   ]
  },
  {
   "cell_type": "code",
   "execution_count": null,
   "metadata": {
    "collapsed": false
   },
   "outputs": [],
   "source": [
    "Sliced_LHS"
   ]
  }
 ],
 "metadata": {
  "anaconda-cloud": {},
  "kernelspec": {
   "display_name": "Python [conda env:py27]",
   "language": "python",
   "name": "conda-env-py27-py"
  },
  "language_info": {
   "codemirror_mode": {
    "name": "ipython",
    "version": 2
   },
   "file_extension": ".py",
   "mimetype": "text/x-python",
   "name": "python",
   "nbconvert_exporter": "python",
   "pygments_lexer": "ipython2",
   "version": "2.7.14"
  }
 },
 "nbformat": 4,
 "nbformat_minor": 2
}
